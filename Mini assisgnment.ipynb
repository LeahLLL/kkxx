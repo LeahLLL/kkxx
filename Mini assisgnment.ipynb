{
 "cells": [
  {
   "cell_type": "markdown",
   "id": "a5d987cc",
   "metadata": {},
   "source": [
    "This project uses a subset (1,000 samples) of the multilingual CCNews dataset from Hugging Face.\n",
    "The goal is to explore underlying semantic structures within the news articles using BERTopic, a transformer-based topic modeling method."
   ]
  },
  {
   "cell_type": "code",
   "execution_count": 1,
   "id": "18cd47a6",
   "metadata": {},
   "outputs": [
    {
     "data": {
      "application/vnd.jupyter.widget-view+json": {
       "model_id": "de6659039b5c4048b10fb592ad2b6913",
       "version_major": 2,
       "version_minor": 0
      },
      "text/plain": [
       "Resolving data files:   0%|          | 0/479 [00:00<?, ?it/s]"
      ]
     },
     "metadata": {},
     "output_type": "display_data"
    },
    {
     "data": {
      "application/vnd.jupyter.widget-view+json": {
       "model_id": "6fd630141b0b4d87ae27a70334c2c0aa",
       "version_major": 2,
       "version_minor": 0
      },
      "text/plain": [
       "Resolving data files:   0%|          | 0/479 [00:00<?, ?it/s]"
      ]
     },
     "metadata": {},
     "output_type": "display_data"
    },
    {
     "name": "stdout",
     "output_type": "stream",
     "text": [
      "                                       requested_url  \\\n",
      "0  http://www.coventrytelegraph.net/news/its-not-...   \n",
      "1  http://www.coventrytelegraph.net/news/coventry...   \n",
      "2  http://www.coventrytelegraph.net/news/buying-d...   \n",
      "3  http://www.coventrytelegraph.net/sport/footbal...   \n",
      "4  http://www.manilatimes.net/pgaa-tops-sonny-ty-...   \n",
      "\n",
      "                                          plain_text published_date  \\\n",
      "0  Even if you missed out on snapping-up a new pl...     2016-10-18   \n",
      "1  The daughter of a former police inspector who ...     2016-10-18   \n",
      "2  Watch: How alcohol can cause cancer  Buying yo...     2016-10-18   \n",
      "3  November is fast approaching - and that means ...     2016-10-18   \n",
      "4  The Philippine Gymnastics and Athletics Academ...     2016-10-18   \n",
      "\n",
      "                                               title tags     categories  \\\n",
      "0  It's not just AA plastic £5 notes that are val...                News   \n",
      "1  'One of the good guys' - tribute to rugby-lovi...       Coventry News   \n",
      "2  Why buying a drink for a drunk mate could land...                News   \n",
      "3  Football Manager 2017: Release date, new featu...       Football News   \n",
      "4    PGAA tops Sonny Ty International Gymnastics Cup              Sports   \n",
      "\n",
      "                 author               sitename  \\\n",
      "0           Enda Mullen  coventrytelegraph.net   \n",
      "1  Catherine Lillington  coventrytelegraph.net   \n",
      "2         Ben Eccleston  coventrytelegraph.net   \n",
      "3          James Rodger  coventrytelegraph.net   \n",
      "4   JEAN RUSSEL V DAVID       The Manila Times   \n",
      "\n",
      "                                           image_url language  language_score  \\\n",
      "0                                               None       en        0.966403   \n",
      "1                                               None       en        0.995429   \n",
      "2                                               None       en        0.978827   \n",
      "3                                               None       en        0.958908   \n",
      "4  http://14255-presscdn-0-60.pagely.netdna-cdn.c...       en        0.894623   \n",
      "\n",
      "                                       responded_url              publisher  \\\n",
      "0  http://www.coventrytelegraph.net/news/its-not-...  coventrytelegraph.net   \n",
      "1  http://www.coventrytelegraph.net/news/coventry...  coventrytelegraph.net   \n",
      "2  http://www.coventrytelegraph.net/news/buying-d...  coventrytelegraph.net   \n",
      "3  http://www.coventrytelegraph.net/sport/footbal...  coventrytelegraph.net   \n",
      "4  http://www.manilatimes.net/pgaa-tops-sonny-ty-...        manilatimes.net   \n",
      "\n",
      "                                           warc_path  \\\n",
      "0  https://data.commoncrawl.org/crawl-data/CC-NEW...   \n",
      "1  https://data.commoncrawl.org/crawl-data/CC-NEW...   \n",
      "2  https://data.commoncrawl.org/crawl-data/CC-NEW...   \n",
      "3  https://data.commoncrawl.org/crawl-data/CC-NEW...   \n",
      "4  https://data.commoncrawl.org/crawl-data/CC-NEW...   \n",
      "\n",
      "                  crawl_date  \n",
      "0  2016-10-18T14:55:16+00:00  \n",
      "1  2016-10-18T14:55:26+00:00  \n",
      "2  2016-10-18T14:55:36+00:00  \n",
      "3  2016-10-18T14:55:46+00:00  \n",
      "4  2016-10-18T14:56:18+00:00  \n"
     ]
    }
   ],
   "source": [
    "from datasets import load_dataset\n",
    "import pandas as pd\n",
    "\n",
    "dataset = load_dataset(\"stanford-oval/ccnews\", split=\"train\", streaming=True)\n",
    "\n",
    "# first 1000 data\n",
    "small_data = []\n",
    "for i, item in enumerate(dataset):\n",
    "    if i >= 1000:\n",
    "        break\n",
    "    small_data.append(item)\n",
    "\n",
    "df = pd.DataFrame(small_data)\n",
    "print(df.head())"
   ]
  },
  {
   "cell_type": "code",
   "execution_count": 2,
   "id": "955a7166",
   "metadata": {},
   "outputs": [
    {
     "name": "stdout",
     "output_type": "stream",
     "text": [
      "<class 'pandas.core.frame.DataFrame'>\n",
      "RangeIndex: 1000 entries, 0 to 999\n",
      "Data columns (total 15 columns):\n",
      " #   Column          Non-Null Count  Dtype  \n",
      "---  ------          --------------  -----  \n",
      " 0   requested_url   1000 non-null   object \n",
      " 1   plain_text      1000 non-null   object \n",
      " 2   published_date  1000 non-null   object \n",
      " 3   title           1000 non-null   object \n",
      " 4   tags            1000 non-null   object \n",
      " 5   categories      1000 non-null   object \n",
      " 6   author          787 non-null    object \n",
      " 7   sitename        1000 non-null   object \n",
      " 8   image_url       877 non-null    object \n",
      " 9   language        1000 non-null   object \n",
      " 10  language_score  1000 non-null   float64\n",
      " 11  responded_url   1000 non-null   object \n",
      " 12  publisher       1000 non-null   object \n",
      " 13  warc_path       1000 non-null   object \n",
      " 14  crawl_date      1000 non-null   object \n",
      "dtypes: float64(1), object(14)\n",
      "memory usage: 117.3+ KB\n"
     ]
    },
    {
     "data": {
      "text/plain": [
       "author            213\n",
       "image_url         123\n",
       "requested_url       0\n",
       "plain_text          0\n",
       "published_date      0\n",
       "title               0\n",
       "tags                0\n",
       "categories          0\n",
       "sitename            0\n",
       "language            0\n",
       "language_score      0\n",
       "responded_url       0\n",
       "publisher           0\n",
       "warc_path           0\n",
       "crawl_date          0\n",
       "dtype: int64"
      ]
     },
     "execution_count": 2,
     "metadata": {},
     "output_type": "execute_result"
    }
   ],
   "source": [
    "df.info()\n",
    "df.describe(include='all')\n",
    "df.isnull().sum().sort_values(ascending=False)"
   ]
  },
  {
   "cell_type": "code",
   "execution_count": 3,
   "id": "b6e24811",
   "metadata": {},
   "outputs": [
    {
     "data": {
      "text/plain": [
       "<Axes: xlabel='sitename'>"
      ]
     },
     "execution_count": 3,
     "metadata": {},
     "output_type": "execute_result"
    },
    {
     "data": {
      "image/png": "[encoded data removed]",
      "text/plain": [
       "<Figure size 640x480 with 1 Axes>"
      ]
     },
     "metadata": {},
     "output_type": "display_data"
    }
   ],
   "source": [
    "df['sitename'].value_counts().head(10).plot(kind='bar')"
   ]
  },
  {
   "cell_type": "code",
   "execution_count": 4,
   "id": "269300bb",
   "metadata": {},
   "outputs": [
    {
     "data": {
      "image/png": "[encoded data removed]",
      "text/plain": [
       "<Figure size 640x480 with 1 Axes>"
      ]
     },
     "metadata": {},
     "output_type": "display_data"
    }
   ],
   "source": [
    "from wordcloud import WordCloud, STOPWORDS\n",
    "import matplotlib.pyplot as plt\n",
    "\n",
    "# Merged text\n",
    "text = \" \".join(df['plain_text'].dropna().tolist())\n",
    "\n",
    "# generated word cloud（remove stopword）\n",
    "wordcloud = WordCloud(width=800, height=400, \n",
    "                      background_color='white', \n",
    "                      stopwords=STOPWORDS).generate(text)\n",
    "\n",
    "plt.imshow(wordcloud, interpolation='bilinear')\n",
    "plt.axis(\"off\")\n",
    "plt.show()"
   ]
  },
  {
   "cell_type": "markdown",
   "id": "7b14caa1",
   "metadata": {},
   "source": [
    "To prepare the text for topic modeling, all news bodies were lowercased, punctuation removed, and both standard and domain-specific stopwords (e.g., “said”, “would”, “year”) were excluded.\n",
    "This preprocessing ensured that the resulting embeddings focus on semantic content rather than stylistic artifacts."
   ]
  },
  {
   "cell_type": "code",
   "execution_count": 7,
   "id": "6320c875",
   "metadata": {},
   "outputs": [
    {
     "name": "stderr",
     "output_type": "stream",
     "text": [
      "[nltk_data] Downloading package stopwords to\n",
      "[nltk_data]     /Users/tiantian/nltk_data...\n",
      "[nltk_data]   Package stopwords is already up-to-date!\n",
      "/var/folders/vk/wh57zgsj4dgdmfrh2qvbyyy80000gn/T/ipykernel_46814/4018421050.py:30: SettingWithCopyWarning: \n",
      "A value is trying to be set on a copy of a slice from a DataFrame.\n",
      "Try using .loc[row_indexer,col_indexer] = value instead\n",
      "\n",
      "See the caveats in the documentation: https://pandas.pydata.org/pandas-docs/stable/user_guide/indexing.html#returning-a-view-versus-a-copy\n",
      "  df_en['clean_text'] = df_en['plain_text'].apply(lambda x: clean_text(str(x)))\n"
     ]
    }
   ],
   "source": [
    "import re\n",
    "import nltk\n",
    "from nltk.corpus import stopwords\n",
    "nltk.download('stopwords')\n",
    "\n",
    "# List of basic stop words (English)\n",
    "stop_words = set(stopwords.words('english'))\n",
    "\n",
    "# Custom extensions: high-frequency but uninformative words for news corpus\n",
    "custom_stopwords = {\n",
    "    \"said\", \"would\", \"one\", \"new\", \"also\", \"people\", \"time\", \"year\",\n",
    "    \"could\", \"may\", \"like\", \"make\", \"two\", \"first\", \"last\", \"us\",\n",
    "    \"mr\", \"ms\", \"say\", \"news\", \"today\", \"week\"\n",
    "}\n",
    "\n",
    "# Merge stop words\n",
    "stop_words = stop_words.union(custom_stopwords)\n",
    "\n",
    "def clean_text(text):\n",
    "    # 1. lowercase\n",
    "    text = text.lower()\n",
    "    # 2. Remove non-alphabetic characters\n",
    "    text = re.sub(r'[^a-z\\s]', '', text)\n",
    "    # 3. Remove the stop words\n",
    "    text = \" \".join([word for word in text.split() if word not in stop_words])\n",
    "    return text\n",
    "\n",
    "# Applying the cleaning function\n",
    "df_en = df[df['language'] == 'en']\n",
    "df_en['clean_text'] = df_en['plain_text'].apply(lambda x: clean_text(str(x)))"
   ]
  },
  {
   "cell_type": "markdown",
   "id": "003c9995",
   "metadata": {},
   "source": [
    "After embedding the text with Sentence-BERT (all-MiniLM-L6-v2) and clustering with UMAP + HDBSCAN,\n",
    "BERTopic identified 9 coherent topics, corresponding to distinct semantic domains within the news dataset."
   ]
  },
  {
   "cell_type": "code",
   "execution_count": 8,
   "id": "75f9058d",
   "metadata": {},
   "outputs": [
    {
     "data": {
      "text/html": [
       "<div>\n",
       "<style scoped>\n",
       "    .dataframe tbody tr th:only-of-type {\n",
       "        vertical-align: middle;\n",
       "    }\n",
       "\n",
       "    .dataframe tbody tr th {\n",
       "        vertical-align: top;\n",
       "    }\n",
       "\n",
       "    .dataframe thead th {\n",
       "        text-align: right;\n",
       "    }\n",
       "</style>\n",
       "<table border=\"1\" class=\"dataframe\">\n",
       "  <thead>\n",
       "    <tr style=\"text-align: right;\">\n",
       "      <th></th>\n",
       "      <th>Topic</th>\n",
       "      <th>Count</th>\n",
       "      <th>Name</th>\n",
       "      <th>Representation</th>\n",
       "      <th>Representative_Docs</th>\n",
       "    </tr>\n",
       "  </thead>\n",
       "  <tbody>\n",
       "    <tr>\n",
       "      <th>0</th>\n",
       "      <td>-1</td>\n",
       "      <td>143</td>\n",
       "      <td>-1_city_years_club_get</td>\n",
       "      <td>[city, years, club, get, take, school, says, p...</td>\n",
       "      <td>[supporterled takeover approach coventry city ...</td>\n",
       "    </tr>\n",
       "    <tr>\n",
       "      <th>1</th>\n",
       "      <td>0</td>\n",
       "      <td>99</td>\n",
       "      <td>0_million_per_years_work</td>\n",
       "      <td>[million, per, years, work, company, percent, ...</td>\n",
       "      <td>[state utilities regulators grappled simple qu...</td>\n",
       "    </tr>\n",
       "    <tr>\n",
       "      <th>2</th>\n",
       "      <td>1</td>\n",
       "      <td>89</td>\n",
       "      <td>1_police_man_officers_court</td>\n",
       "      <td>[police, man, officers, court, officer, found,...</td>\n",
       "      <td>[rugby league player arrested incident left po...</td>\n",
       "    </tr>\n",
       "    <tr>\n",
       "      <th>3</th>\n",
       "      <td>2</td>\n",
       "      <td>37</td>\n",
       "      <td>2_game_celtic_team_players</td>\n",
       "      <td>[game, celtic, team, players, league, rangers,...</td>\n",
       "      <td>[tartan army hit hotline voice anger gordon st...</td>\n",
       "    </tr>\n",
       "    <tr>\n",
       "      <th>4</th>\n",
       "      <td>3</td>\n",
       "      <td>30</td>\n",
       "      <td>3_music_show_album_pm</td>\n",
       "      <td>[music, show, album, pm, band, songs, st, tour...</td>\n",
       "      <td>[theres choice going put show announced chris ...</td>\n",
       "    </tr>\n",
       "    <tr>\n",
       "      <th>5</th>\n",
       "      <td>4</td>\n",
       "      <td>24</td>\n",
       "      <td>4_restaurant_food_private_beer</td>\n",
       "      <td>[restaurant, food, private, beer, dining, room...</td>\n",
       "      <td>[chad forsberg growing food best restaurants t...</td>\n",
       "    </tr>\n",
       "    <tr>\n",
       "      <th>6</th>\n",
       "      <td>5</td>\n",
       "      <td>22</td>\n",
       "      <td>5_game_texans_cavaliers_play</td>\n",
       "      <td>[game, texans, cavaliers, play, wizards, team,...</td>\n",
       "      <td>[best bets weekends college nfl games havent c...</td>\n",
       "    </tr>\n",
       "    <tr>\n",
       "      <th>7</th>\n",
       "      <td>6</td>\n",
       "      <td>17</td>\n",
       "      <td>6_russian_pr_aleppo_disaster</td>\n",
       "      <td>[russian, pr, aleppo, disaster, president, typ...</td>\n",
       "      <td>[theresa condemned vladimir putins aggression ...</td>\n",
       "    </tr>\n",
       "    <tr>\n",
       "      <th>8</th>\n",
       "      <td>7</td>\n",
       "      <td>16</td>\n",
       "      <td>7_trump_clinton_donald_campaign</td>\n",
       "      <td>[trump, clinton, donald, campaign, republican,...</td>\n",
       "      <td>[democratic political operatives longer workin...</td>\n",
       "    </tr>\n",
       "    <tr>\n",
       "      <th>9</th>\n",
       "      <td>8</td>\n",
       "      <td>13</td>\n",
       "      <td>8_voters_ohio_trump_election</td>\n",
       "      <td>[voters, ohio, trump, election, ballot, journa...</td>\n",
       "      <td>[columbus ohio ap nonpartisan voting rights gr...</td>\n",
       "    </tr>\n",
       "  </tbody>\n",
       "</table>\n",
       "</div>"
      ],
      "text/plain": [
       "   Topic  Count                             Name  \\\n",
       "0     -1    143           -1_city_years_club_get   \n",
       "1      0     99         0_million_per_years_work   \n",
       "2      1     89      1_police_man_officers_court   \n",
       "3      2     37       2_game_celtic_team_players   \n",
       "4      3     30            3_music_show_album_pm   \n",
       "5      4     24   4_restaurant_food_private_beer   \n",
       "6      5     22     5_game_texans_cavaliers_play   \n",
       "7      6     17     6_russian_pr_aleppo_disaster   \n",
       "8      7     16  7_trump_clinton_donald_campaign   \n",
       "9      8     13     8_voters_ohio_trump_election   \n",
       "\n",
       "                                      Representation  \\\n",
       "0  [city, years, club, get, take, school, says, p...   \n",
       "1  [million, per, years, work, company, percent, ...   \n",
       "2  [police, man, officers, court, officer, found,...   \n",
       "3  [game, celtic, team, players, league, rangers,...   \n",
       "4  [music, show, album, pm, band, songs, st, tour...   \n",
       "5  [restaurant, food, private, beer, dining, room...   \n",
       "6  [game, texans, cavaliers, play, wizards, team,...   \n",
       "7  [russian, pr, aleppo, disaster, president, typ...   \n",
       "8  [trump, clinton, donald, campaign, republican,...   \n",
       "9  [voters, ohio, trump, election, ballot, journa...   \n",
       "\n",
       "                                 Representative_Docs  \n",
       "0  [supporterled takeover approach coventry city ...  \n",
       "1  [state utilities regulators grappled simple qu...  \n",
       "2  [rugby league player arrested incident left po...  \n",
       "3  [tartan army hit hotline voice anger gordon st...  \n",
       "4  [theres choice going put show announced chris ...  \n",
       "5  [chad forsberg growing food best restaurants t...  \n",
       "6  [best bets weekends college nfl games havent c...  \n",
       "7  [theresa condemned vladimir putins aggression ...  \n",
       "8  [democratic political operatives longer workin...  \n",
       "9  [columbus ohio ap nonpartisan voting rights gr...  "
      ]
     },
     "execution_count": 8,
     "metadata": {},
     "output_type": "execute_result"
    }
   ],
   "source": [
    "from bertopic import BERTopic\n",
    "from sentence_transformers import SentenceTransformer\n",
    "from umap import UMAP\n",
    "\n",
    "umap_model = UMAP(random_state=42)\n",
    "model = SentenceTransformer(\"all-MiniLM-L6-v2\")\n",
    "\n",
    "texts = df_en['clean_text'].sample(500, random_state=42)\n",
    "\n",
    "topic_model = BERTopic(\n",
    "    embedding_model=model,\n",
    "    umap_model=umap_model,\n",
    "    language=\"english\",\n",
    "    min_topic_size=10\n",
    ")\n",
    "\n",
    "topics, probs = topic_model.fit_transform(texts)\n",
    "topic_info = topic_model.get_topic_info()\n",
    "topic_info.head(10)"
   ]
  },
  {
   "cell_type": "markdown",
   "id": "4133bdbe",
   "metadata": {},
   "source": [
    "The visualization shows the top-ranked words for each discovered topic.\n",
    "Topics are semantically well-separated — from entertainment and sports to politics and international conflicts.\n",
    "Political discourse (Topic 7–8) appears dominant, consistent with the 2016–2017 global news timeline.\n",
    "Lifestyle and sports topics (Topic 4–5) reflect everyday coverage patterns typical of online media."
   ]
  },
  {
   "cell_type": "code",
   "execution_count": null,
   "id": "f1dddf46",
   "metadata": {},
   "outputs": [
    {
     "data": {
      "application/vnd.plotly.v1+json": {
       "config": {
        "plotlyServerURL": "https://plot.ly"
       },
       "data": [
        {
         "marker": {
          "color": "#D55E00"
         },
         "orientation": "h",
         "type": "bar",
         "x": [
          0.010119579344033743,
          0.010796914804885155,
          0.011191180794807055,
          0.011746295319293823,
          0.015094394676591143
         ],
         "xaxis": "x",
         "y": [
          "company  ",
          "work  ",
          "years  ",
          "per  ",
          "million  "
         ],
         "yaxis": "y"
        },
        {
         "marker": {
          "color": "#0072B2"
         },
         "orientation": "h",
         "type": "bar",
         "x": [
          0.02031933445480273,
          0.02227219073841404,
          0.025464999637294167,
          0.0328209081369978,
          0.0672257861589464
         ],
         "xaxis": "x2",
         "y": [
          "officer  ",
          "court  ",
          "officers  ",
          "man  ",
          "police  "
         ],
         "yaxis": "y2"
        },
        {
         "marker": {
          "color": "#CC79A7"
         },
         "orientation": "h",
         "type": "bar",
         "x": [
          0.02506828172316461,
          0.025712760527999215,
          0.026097018956230178,
          0.027564135103452788,
          0.031119607231660348
         ],
         "xaxis": "x3",
         "y": [
          "league  ",
          "players  ",
          "team  ",
          "celtic  ",
          "game  "
         ],
         "yaxis": "y3"
        },
        {
         "marker": {
          "color": "#E69F00"
         },
         "orientation": "h",
         "type": "bar",
         "x": [
          0.01925898506282921,
          0.01993450895771423,
          0.024171634716480542,
          0.029246710685488772,
          0.0345312065648685
         ],
         "xaxis": "x4",
         "y": [
          "band  ",
          "pm  ",
          "album  ",
          "show  ",
          "music  "
         ],
         "yaxis": "y4"
        },
        {
         "marker": {
          "color": "#56B4E9"
         },
         "orientation": "h",
         "type": "bar",
         "x": [
          0.026056687955422913,
          0.026625267179348145,
          0.02701926432530174,
          0.029599765817948917,
          0.03300334377362398
         ],
         "xaxis": "x5",
         "y": [
          "dining  ",
          "beer  ",
          "private  ",
          "food  ",
          "restaurant  "
         ],
         "yaxis": "y5"
        },
        {
         "marker": {
          "color": "#009E73"
         },
         "orientation": "h",
         "type": "bar",
         "x": [
          0.023030048608456383,
          0.025246325620721637,
          0.026255565335893356,
          0.028833152479317475,
          0.044517071905242865
         ],
         "xaxis": "x6",
         "y": [
          "wizards  ",
          "play  ",
          "cavaliers  ",
          "texans  ",
          "game  "
         ],
         "yaxis": "y6"
        },
        {
         "marker": {
          "color": "#F0E442"
         },
         "orientation": "h",
         "type": "bar",
         "x": [
          0.023722211185976682,
          0.023762912259672624,
          0.025133462690552083,
          0.02909423190795289,
          0.02965204474849619
         ],
         "xaxis": "x7",
         "y": [
          "president  ",
          "disaster  ",
          "aleppo  ",
          "pr  ",
          "russian  "
         ],
         "yaxis": "y7"
        },
        {
         "marker": {
          "color": "#D55E00"
         },
         "orientation": "h",
         "type": "bar",
         "x": [
          0.027988582952800208,
          0.032668987390386296,
          0.0367693479717336,
          0.04621384855212473,
          0.07922038810969777
         ],
         "xaxis": "x8",
         "y": [
          "republican  ",
          "campaign  ",
          "donald  ",
          "clinton  ",
          "trump  "
         ],
         "yaxis": "y8"
        },
        {
         "marker": {
          "color": "#0072B2"
         },
         "orientation": "h",
         "type": "bar",
         "x": [
          0.0434050801861205,
          0.0441120015090499,
          0.04689445713958038,
          0.06820493562036006,
          0.07515527595934773
         ],
         "xaxis": "x9",
         "y": [
          "ballot  ",
          "election  ",
          "trump  ",
          "ohio  ",
          "voters  "
         ],
         "yaxis": "y9"
        },
        {
         "marker": {
          "color": "#CC79A7"
         },
         "orientation": "h",
         "type": "bar",
         "x": [
          0.08397608935564482,
          0.08633606757457976,
          0.11741879265647709,
          0.11845634650647957,
          0.1334285471687174
         ],
         "xaxis": "x10",
         "y": [
          "journal  ",
          "beacon  ",
          "indians  ",
          "game  ",
          "cleveland  "
         ],
         "yaxis": "y10"
        }
       ],
       "layout": {
        "annotations": [
         {
          "font": {
           "size": 16
          },
          "showarrow": false,
          "text": "Topic 0",
          "x": 0.0875,
          "xanchor": "center",
          "xref": "paper",
          "y": 1,
          "yanchor": "bottom",
          "yref": "paper"
         },
         {
          "font": {
           "size": 16
          },
          "showarrow": false,
          "text": "Topic 1",
          "x": 0.36250000000000004,
          "xanchor": "center",
          "xref": "paper",
          "y": 1,
          "yanchor": "bottom",
          "yref": "paper"
         },
         {
          "font": {
           "size": 16
          },
          "showarrow": false,
          "text": "Topic 2",
          "x": 0.6375000000000001,
          "xanchor": "center",
          "xref": "paper",
          "y": 1,
          "yanchor": "bottom",
          "yref": "paper"
         },
         {
          "font": {
           "size": 16
          },
          "showarrow": false,
          "text": "Topic 3",
          "x": 0.9125,
          "xanchor": "center",
          "xref": "paper",
          "y": 1,
          "yanchor": "bottom",
          "yref": "paper"
         },
         {
          "font": {
           "size": 16
          },
          "showarrow": false,
          "text": "Topic 4",
          "x": 0.0875,
          "xanchor": "center",
          "xref": "paper",
          "y": 0.6222222222222222,
          "yanchor": "bottom",
          "yref": "paper"
         },
         {
          "font": {
           "size": 16
          },
          "showarrow": false,
          "text": "Topic 5",
          "x": 0.36250000000000004,
          "xanchor": "center",
          "xref": "paper",
          "y": 0.6222222222222222,
          "yanchor": "bottom",
          "yref": "paper"
         },
         {
          "font": {
           "size": 16
          },
          "showarrow": false,
          "text": "Topic 6",
          "x": 0.6375000000000001,
          "xanchor": "center",
          "xref": "paper",
          "y": 0.6222222222222222,
          "yanchor": "bottom",
          "yref": "paper"
         },
         {
          "font": {
           "size": 16
          },
          "showarrow": false,
          "text": "Topic 7",
          "x": 0.9125,
          "xanchor": "center",
          "xref": "paper",
          "y": 0.6222222222222222,
          "yanchor": "bottom",
          "yref": "paper"
         },
         {
          "font": {
           "size": 16
          },
          "showarrow": false,
          "text": "Topic 8",
          "x": 0.0875,
          "xanchor": "center",
          "xref": "paper",
          "y": 0.24444444444444446,
          "yanchor": "bottom",
          "yref": "paper"
         },
         {
          "font": {
           "size": 16
          },
          "showarrow": false,
          "text": "Topic 9",
          "x": 0.36250000000000004,
          "xanchor": "center",
          "xref": "paper",
          "y": 0.24444444444444446,
          "yanchor": "bottom",
          "yref": "paper"
         }
        ],
        "height": 750,
        "hoverlabel": {
         "bgcolor": "white",
         "font": {
          "family": "Rockwell",
          "size": 16
         }
        },
        "showlegend": false,
        "template": {
         "data": {
          "bar": [
           {
            "error_x": {
             "color": "#2a3f5f"
            },
            "error_y": {
             "color": "#2a3f5f"
            },
            "marker": {
             "line": {
              "color": "white",
              "width": 0.5
             },
             "pattern": {
              "fillmode": "overlay",
              "size": 10,
              "solidity": 0.2
             }
            },
            "type": "bar"
           }
          ],
          "barpolar": [
           {
            "marker": {
             "line": {
              "color": "white",
              "width": 0.5
             },
             "pattern": {
              "fillmode": "overlay",
              "size": 10,
              "solidity": 0.2
             }
            },
            "type": "barpolar"
           }
          ],
          "carpet": [
           {
            "aaxis": {
             "endlinecolor": "#2a3f5f",
             "gridcolor": "#C8D4E3",
             "linecolor": "#C8D4E3",
             "minorgridcolor": "#C8D4E3",
             "startlinecolor": "#2a3f5f"
            },
            "baxis": {
             "endlinecolor": "#2a3f5f",
             "gridcolor": "#C8D4E3",
             "linecolor": "#C8D4E3",
             "minorgridcolor": "#C8D4E3",
             "startlinecolor": "#2a3f5f"
            },
            "type": "carpet"
           }
          ],
          "choropleth": [
           {
            "colorbar": {
             "outlinewidth": 0,
             "ticks": ""
            },
            "type": "choropleth"
           }
          ],
          "contour": [
           {
            "colorbar": {
             "outlinewidth": 0,
             "ticks": ""
            },
            "colorscale": [
             [
              0,
              "#0d0887"
             ],
             [
              0.1111111111111111,
              "#46039f"
             ],
             [
              0.2222222222222222,
              "#7201a8"
             ],
             [
              0.3333333333333333,
              "#9c179e"
             ],
             [
              0.4444444444444444,
              "#bd3786"
             ],
             [
              0.5555555555555556,
              "#d8576b"
             ],
             [
              0.6666666666666666,
              "#ed7953"
             ],
             [
              0.7777777777777778,
              "#fb9f3a"
             ],
             [
              0.8888888888888888,
              "#fdca26"
             ],
             [
              1,
              "#f0f921"
             ]
            ],
            "type": "contour"
           }
          ],
          "contourcarpet": [
           {
            "colorbar": {
             "outlinewidth": 0,
             "ticks": ""
            },
            "type": "contourcarpet"
           }
          ],
          "heatmap": [
           {
            "colorbar": {
             "outlinewidth": 0,
             "ticks": ""
            },
            "colorscale": [
             [
              0,
              "#0d0887"
             ],
             [
              0.1111111111111111,
              "#46039f"
             ],
             [
              0.2222222222222222,
              "#7201a8"
             ],
             [
              0.3333333333333333,
              "#9c179e"
             ],
             [
              0.4444444444444444,
              "#bd3786"
             ],
             [
              0.5555555555555556,
              "#d8576b"
             ],
             [
              0.6666666666666666,
              "#ed7953"
             ],
             [
              0.7777777777777778,
              "#fb9f3a"
             ],
             [
              0.8888888888888888,
              "#fdca26"
             ],
             [
              1,
              "#f0f921"
             ]
            ],
            "type": "heatmap"
           }
          ],
          "heatmapgl": [
           {
            "colorbar": {
             "outlinewidth": 0,
             "ticks": ""
            },
            "colorscale": [
             [
              0,
              "#0d0887"
             ],
             [
              0.1111111111111111,
              "#46039f"
             ],
             [
              0.2222222222222222,
              "#7201a8"
             ],
             [
              0.3333333333333333,
              "#9c179e"
             ],
             [
              0.4444444444444444,
              "#bd3786"
             ],
             [
              0.5555555555555556,
              "#d8576b"
             ],
             [
              0.6666666666666666,
              "#ed7953"
             ],
             [
              0.7777777777777778,
              "#fb9f3a"
             ],
             [
              0.8888888888888888,
              "#fdca26"
             ],
             [
              1,
              "#f0f921"
             ]
            ],
            "type": "heatmapgl"
           }
          ],
          "histogram": [
           {
            "marker": {
             "pattern": {
              "fillmode": "overlay",
              "size": 10,
              "solidity": 0.2
             }
            },
            "type": "histogram"
           }
          ],
          "histogram2d": [
           {
            "colorbar": {
             "outlinewidth": 0,
             "ticks": ""
            },
            "colorscale": [
             [
              0,
              "#0d0887"
             ],
             [
              0.1111111111111111,
              "#46039f"
             ],
             [
              0.2222222222222222,
              "#7201a8"
             ],
             [
              0.3333333333333333,
              "#9c179e"
             ],
             [
              0.4444444444444444,
              "#bd3786"
             ],
             [
              0.5555555555555556,
              "#d8576b"
             ],
             [
              0.6666666666666666,
              "#ed7953"
             ],
             [
              0.7777777777777778,
              "#fb9f3a"
             ],
             [
              0.8888888888888888,
              "#fdca26"
             ],
             [
              1,
              "#f0f921"
             ]
            ],
            "type": "histogram2d"
           }
          ],
          "histogram2dcontour": [
           {
            "colorbar": {
             "outlinewidth": 0,
             "ticks": ""
            },
            "colorscale": [
             [
              0,
              "#0d0887"
             ],
             [
              0.1111111111111111,
              "#46039f"
             ],
             [
              0.2222222222222222,
              "#7201a8"
             ],
             [
              0.3333333333333333,
              "#9c179e"
             ],
             [
              0.4444444444444444,
              "#bd3786"
             ],
             [
              0.5555555555555556,
              "#d8576b"
             ],
             [
              0.6666666666666666,
              "#ed7953"
             ],
             [
              0.7777777777777778,
              "#fb9f3a"
             ],
             [
              0.8888888888888888,
              "#fdca26"
             ],
             [
              1,
              "#f0f921"
             ]
            ],
            "type": "histogram2dcontour"
           }
          ],
          "mesh3d": [
           {
            "colorbar": {
             "outlinewidth": 0,
             "ticks": ""
            },
            "type": "mesh3d"
           }
          ],
          "parcoords": [
           {
            "line": {
             "colorbar": {
              "outlinewidth": 0,
              "ticks": ""
             }
            },
            "type": "parcoords"
           }
          ],
          "pie": [
           {
            "automargin": true,
            "type": "pie"
           }
          ],
          "scatter": [
           {
            "fillpattern": {
             "fillmode": "overlay",
             "size": 10,
             "solidity": 0.2
            },
            "type": "scatter"
           }
          ],
          "scatter3d": [
           {
            "line": {
             "colorbar": {
              "outlinewidth": 0,
              "ticks": ""
             }
            },
            "marker": {
             "colorbar": {
              "outlinewidth": 0,
              "ticks": ""
             }
            },
            "type": "scatter3d"
           }
          ],
          "scattercarpet": [
           {
            "marker": {
             "colorbar": {
              "outlinewidth": 0,
              "ticks": ""
             }
            },
            "type": "scattercarpet"
           }
          ],
          "scattergeo": [
           {
            "marker": {
             "colorbar": {
              "outlinewidth": 0,
              "ticks": ""
             }
            },
            "type": "scattergeo"
           }
          ],
          "scattergl": [
           {
            "marker": {
             "colorbar": {
              "outlinewidth": 0,
              "ticks": ""
             }
            },
            "type": "scattergl"
           }
          ],
          "scattermapbox": [
           {
            "marker": {
             "colorbar": {
              "outlinewidth": 0,
              "ticks": ""
             }
            },
            "type": "scattermapbox"
           }
          ],
          "scatterpolar": [
           {
            "marker": {
             "colorbar": {
              "outlinewidth": 0,
              "ticks": ""
             }
            },
            "type": "scatterpolar"
           }
          ],
          "scatterpolargl": [
           {
            "marker": {
             "colorbar": {
              "outlinewidth": 0,
              "ticks": ""
             }
            },
            "type": "scatterpolargl"
           }
          ],
          "scatterternary": [
           {
            "marker": {
             "colorbar": {
              "outlinewidth": 0,
              "ticks": ""
             }
            },
            "type": "scatterternary"
           }
          ],
          "surface": [
           {
            "colorbar": {
             "outlinewidth": 0,
             "ticks": ""
            },
            "colorscale": [
             [
              0,
              "#0d0887"
             ],
             [
              0.1111111111111111,
              "#46039f"
             ],
             [
              0.2222222222222222,
              "#7201a8"
             ],
             [
              0.3333333333333333,
              "#9c179e"
             ],
             [
              0.4444444444444444,
              "#bd3786"
             ],
             [
              0.5555555555555556,
              "#d8576b"
             ],
             [
              0.6666666666666666,
              "#ed7953"
             ],
             [
              0.7777777777777778,
              "#fb9f3a"
             ],
             [
              0.8888888888888888,
              "#fdca26"
             ],
             [
              1,
              "#f0f921"
             ]
            ],
            "type": "surface"
           }
          ],
          "table": [
           {
            "cells": {
             "fill": {
              "color": "#EBF0F8"
             },
             "line": {
              "color": "white"
             }
            },
            "header": {
             "fill": {
              "color": "#C8D4E3"
             },
             "line": {
              "color": "white"
             }
            },
            "type": "table"
           }
          ]
         },
         "layout": {
          "annotationdefaults": {
           "arrowcolor": "#2a3f5f",
           "arrowhead": 0,
           "arrowwidth": 1
          },
          "autotypenumbers": "strict",
          "coloraxis": {
           "colorbar": {
            "outlinewidth": 0,
            "ticks": ""
           }
          },
          "colorscale": {
           "diverging": [
            [
             0,
             "#8e0152"
            ],
            [
             0.1,
             "#c51b7d"
            ],
            [
             0.2,
             "#de77ae"
            ],
            [
             0.3,
             "#f1b6da"
            ],
            [
             0.4,
             "#fde0ef"
            ],
            [
             0.5,
             "#f7f7f7"
            ],
            [
             0.6,
             "#e6f5d0"
            ],
            [
             0.7,
             "#b8e186"
            ],
            [
             0.8,
             "#7fbc41"
            ],
            [
             0.9,
             "#4d9221"
            ],
            [
             1,
             "#276419"
            ]
           ],
           "sequential": [
            [
             0,
             "#0d0887"
            ],
            [
             0.1111111111111111,
             "#46039f"
            ],
            [
             0.2222222222222222,
             "#7201a8"
            ],
            [
             0.3333333333333333,
             "#9c179e"
            ],
            [
             0.4444444444444444,
             "#bd3786"
            ],
            [
             0.5555555555555556,
             "#d8576b"
            ],
            [
             0.6666666666666666,
             "#ed7953"
            ],
            [
             0.7777777777777778,
             "#fb9f3a"
            ],
            [
             0.8888888888888888,
             "#fdca26"
            ],
            [
             1,
             "#f0f921"
            ]
           ],
           "sequentialminus": [
            [
             0,
             "#0d0887"
            ],
            [
             0.1111111111111111,
             "#46039f"
            ],
            [
             0.2222222222222222,
             "#7201a8"
            ],
            [
             0.3333333333333333,
             "#9c179e"
            ],
            [
             0.4444444444444444,
             "#bd3786"
            ],
            [
             0.5555555555555556,
             "#d8576b"
            ],
            [
             0.6666666666666666,
             "#ed7953"
            ],
            [
             0.7777777777777778,
             "#fb9f3a"
            ],
            [
             0.8888888888888888,
             "#fdca26"
            ],
            [
             1,
             "#f0f921"
            ]
           ]
          },
          "colorway": [
           "#636efa",
           "#EF553B",
           "#00cc96",
           "#ab63fa",
           "#FFA15A",
           "#19d3f3",
           "#FF6692",
           "#B6E880",
           "#FF97FF",
           "#FECB52"
          ],
          "font": {
           "color": "#2a3f5f"
          },
          "geo": {
           "bgcolor": "white",
           "lakecolor": "white",
           "landcolor": "white",
           "showlakes": true,
           "showland": true,
           "subunitcolor": "#C8D4E3"
          },
          "hoverlabel": {
           "align": "left"
          },
          "hovermode": "closest",
          "mapbox": {
           "style": "light"
          },
          "paper_bgcolor": "white",
          "plot_bgcolor": "white",
          "polar": {
           "angularaxis": {
            "gridcolor": "#EBF0F8",
            "linecolor": "#EBF0F8",
            "ticks": ""
           },
           "bgcolor": "white",
           "radialaxis": {
            "gridcolor": "#EBF0F8",
            "linecolor": "#EBF0F8",
            "ticks": ""
           }
          },
          "scene": {
           "xaxis": {
            "backgroundcolor": "white",
            "gridcolor": "#DFE8F3",
            "gridwidth": 2,
            "linecolor": "#EBF0F8",
            "showbackground": true,
            "ticks": "",
            "zerolinecolor": "#EBF0F8"
           },
           "yaxis": {
            "backgroundcolor": "white",
            "gridcolor": "#DFE8F3",
            "gridwidth": 2,
            "linecolor": "#EBF0F8",
            "showbackground": true,
            "ticks": "",
            "zerolinecolor": "#EBF0F8"
           },
           "zaxis": {
            "backgroundcolor": "white",
            "gridcolor": "#DFE8F3",
            "gridwidth": 2,
            "linecolor": "#EBF0F8",
            "showbackground": true,
            "ticks": "",
            "zerolinecolor": "#EBF0F8"
           }
          },
          "shapedefaults": {
           "line": {
            "color": "#2a3f5f"
           }
          },
          "ternary": {
           "aaxis": {
            "gridcolor": "#DFE8F3",
            "linecolor": "#A2B1C6",
            "ticks": ""
           },
           "baxis": {
            "gridcolor": "#DFE8F3",
            "linecolor": "#A2B1C6",
            "ticks": ""
           },
           "bgcolor": "white",
           "caxis": {
            "gridcolor": "#DFE8F3",
            "linecolor": "#A2B1C6",
            "ticks": ""
           }
          },
          "title": {
           "x": 0.05
          },
          "xaxis": {
           "automargin": true,
           "gridcolor": "#EBF0F8",
           "linecolor": "#EBF0F8",
           "ticks": "",
           "title": {
            "standoff": 15
           },
           "zerolinecolor": "#EBF0F8",
           "zerolinewidth": 2
          },
          "yaxis": {
           "automargin": true,
           "gridcolor": "#EBF0F8",
           "linecolor": "#EBF0F8",
           "ticks": "",
           "title": {
            "standoff": 15
           },
           "zerolinecolor": "#EBF0F8",
           "zerolinewidth": 2
          }
         }
        },
        "title": {
         "font": {
          "color": "Black",
          "size": 22
         },
         "text": "Topic Word Scores",
         "x": 0.5,
         "xanchor": "center",
         "yanchor": "top"
        },
        "width": 1000,
        "xaxis": {
         "anchor": "y",
         "domain": [
          0,
          0.175
         ],
         "showgrid": true
        },
        "xaxis10": {
         "anchor": "y10",
         "domain": [
          0.275,
          0.45
         ],
         "showgrid": true
        },
        "xaxis11": {
         "anchor": "y11",
         "domain": [
          0.55,
          0.7250000000000001
         ],
         "showgrid": true
        },
        "xaxis12": {
         "anchor": "y12",
         "domain": [
          0.825,
          1
         ],
         "showgrid": true
        },
        "xaxis2": {
         "anchor": "y2",
         "domain": [
          0.275,
          0.45
         ],
         "showgrid": true
        },
        "xaxis3": {
         "anchor": "y3",
         "domain": [
          0.55,
          0.7250000000000001
         ],
         "showgrid": true
        },
        "xaxis4": {
         "anchor": "y4",
         "domain": [
          0.825,
          1
         ],
         "showgrid": true
        },
        "xaxis5": {
         "anchor": "y5",
         "domain": [
          0,
          0.175
         ],
         "showgrid": true
        },
        "xaxis6": {
         "anchor": "y6",
         "domain": [
          0.275,
          0.45
         ],
         "showgrid": true
        },
        "xaxis7": {
         "anchor": "y7",
         "domain": [
          0.55,
          0.7250000000000001
         ],
         "showgrid": true
        },
        "xaxis8": {
         "anchor": "y8",
         "domain": [
          0.825,
          1
         ],
         "showgrid": true
        },
        "xaxis9": {
         "anchor": "y9",
         "domain": [
          0,
          0.175
         ],
         "showgrid": true
        },
        "yaxis": {
         "anchor": "x",
         "domain": [
          0.7555555555555555,
          1
         ],
         "showgrid": true
        },
        "yaxis10": {
         "anchor": "x10",
         "domain": [
          0,
          0.24444444444444446
         ],
         "showgrid": true
        },
        "yaxis11": {
         "anchor": "x11",
         "domain": [
          0,
          0.24444444444444446
         ],
         "showgrid": true
        },
        "yaxis12": {
         "anchor": "x12",
         "domain": [
          0,
          0.24444444444444446
         ],
         "showgrid": true
        },
        "yaxis2": {
         "anchor": "x2",
         "domain": [
          0.7555555555555555,
          1
         ],
         "showgrid": true
        },
        "yaxis3": {
         "anchor": "x3",
         "domain": [
          0.7555555555555555,
          1
         ],
         "showgrid": true
        },
        "yaxis4": {
         "anchor": "x4",
         "domain": [
          0.7555555555555555,
          1
         ],
         "showgrid": true
        },
        "yaxis5": {
         "anchor": "x5",
         "domain": [
          0.37777777777777777,
          0.6222222222222222
         ],
         "showgrid": true
        },
        "yaxis6": {
         "anchor": "x6",
         "domain": [
          0.37777777777777777,
          0.6222222222222222
         ],
         "showgrid": true
        },
        "yaxis7": {
         "anchor": "x7",
         "domain": [
          0.37777777777777777,
          0.6222222222222222
         ],
         "showgrid": true
        },
        "yaxis8": {
         "anchor": "x8",
         "domain": [
          0.37777777777777777,
          0.6222222222222222
         ],
         "showgrid": true
        },
        "yaxis9": {
         "anchor": "x9",
         "domain": [
          0,
          0.24444444444444446
         ],
         "showgrid": true
        }
       }
      }
     },
     "metadata": {},
     "output_type": "display_data"
    }
   ],
   "source": [
    "topic_model.visualize_barchart(top_n_topics=10)"
   ]
  },
  {
   "cell_type": "markdown",
   "id": "fe6eb6b9",
   "metadata": {},
   "source": [
    "BERTopic identified ten distinct themes within the English news dataset, including crime and law, sports, entertainment, food and dining, politics, and business.\n",
    "The clustering results show clear topic separation, indicating that the corpus naturally organizes around major news domains."
   ]
  },
  {
   "cell_type": "code",
   "execution_count": 14,
   "id": "02507881",
   "metadata": {},
   "outputs": [],
   "source": [
    "import ollama\n",
    "import json\n",
    "\n",
    "# Define the possible topic labels for news classification.\n",
    "# The model must choose exactly ONE of these labels.\n",
    "LABELS = [\n",
    "    \"Sports\", \"Politics\", \"Entertainment\", \"Food&Drink\",\n",
    "    \"Crime&Law\", \"Elections\", \"Other\"\n",
    "]\n",
    "\n",
    "# The system prompt defines the model's role and rules.\n",
    "# It instructs the model to behave as a strict classifier,\n",
    "# and to respond ONLY in a structured JSON format.\n",
    "SYSTEM = (\n",
    "    \"You are a precise news section classifier. \"\n",
    "    \"Given title and body, return one label from the allowed set. \"\n",
    "    \"Answer ONLY as strict JSON: {\\\"label\\\": <one of LABELS>, \\\"rationale\\\": <short reason>}.\"\n",
    ")\n",
    "\n",
    "# This is the user prompt template.\n",
    "# It dynamically inserts the labels, title, and body of each news article.\n",
    "# The prompt explicitly restricts the model output to one label and one rationale.\n",
    "USER_TMPL = \"\"\"Allowed labels: {labels}\n",
    "\n",
    "Title: {title}\n",
    "Body: {body}\n",
    "\n",
    "Rules:\n",
    "- Pick exactly ONE label from the allowed set.\n",
    "- Keep rationale under 20 words.\n",
    "Return ONLY JSON, no extra text.\n",
    "\"\"\"\n",
    "\n",
    "# ------------------------------\n",
    "# Function: classify_one()\n",
    "# ------------------------------\n",
    "# This function sends one news item (title + body) to the LLM for classification.\n",
    "# It constructs a prompt, calls the Ollama API, parses the response,\n",
    "# and returns a tuple (label, rationale).\n",
    "def classify_one(title, body, model=\"qwen2.5:7b\"):\n",
    "    # Fill in the user template with the article content.\n",
    "    # Limit title/body length to prevent overly long inputs.\n",
    "    msg = USER_TMPL.format(labels=\", \".join(LABELS), title=title[:180], body=body[:1000])\n",
    "    \n",
    "    # Combine system and user messages into one complete prompt.\n",
    "    full_prompt = SYSTEM + \"\\n\\n\" + msg\n",
    "    \n",
    "    try:\n",
    "        # Send the request to the local Ollama API.\n",
    "        # The model generates a classification label and a brief rationale.\n",
    "        response = ollama.chat(\n",
    "            model=model,\n",
    "            messages=[{\"role\": \"user\", \"content\": full_prompt}]\n",
    "        )\n",
    "\n",
    "        # Extract the model's raw response text.\n",
    "        text = response[\"message\"][\"content\"].strip()\n",
    "\n",
    "        # Try to parse the model's JSON output.\n",
    "        data = json.loads(text)\n",
    "\n",
    "        # Safely extract the \"label\" and \"rationale\" fields.\n",
    "        label = data.get(\"label\", \"Other\")\n",
    "        rationale = data.get(\"rationale\", \"\")\n",
    "\n",
    "    # Handle JSON format errors (if model output isn't valid JSON).\n",
    "    except json.JSONDecodeError:\n",
    "        label, rationale = \"Other\", \"parse_error\"\n",
    "\n",
    "    # Handle all other runtime errors (network, timeout, etc.).\n",
    "    except Exception as e:\n",
    "        label, rationale = \"Other\", f\"error: {e}\"\n",
    "\n",
    "    # Return both classification label and reasoning.\n",
    "    return label, rationale"
   ]
  },
  {
   "cell_type": "code",
   "execution_count": 24,
   "id": "a5e11249",
   "metadata": {},
   "outputs": [],
   "source": [
    "# Make sure the sample exists (e.g., 200 random entries).\n",
    "sample = df.sample(200, random_state=42).copy()\n",
    "\n",
    "# Create an empty list first\n",
    "labels, reasons = [], []\n",
    "\n",
    "# Run classification \n",
    "for _, row in sample.iterrows():\n",
    "    label, why = classify_one(\n",
    "        row.get(\"title\", \"\"), \n",
    "        row.get(\"plain_text\", \"\")\n",
    "    )\n",
    "    labels.append(label)\n",
    "    reasons.append(why)\n",
    "\n",
    "# Defensive patching (to avoid inconsistent lengths)\n",
    "while len(labels) < len(sample):\n",
    "    labels.append(\"Other\")\n",
    "    reasons.append(\"missing\")\n",
    "\n",
    "sample[\"llm_label\"] = labels\n",
    "sample[\"llm_rationale\"] = reasons"
   ]
  },
  {
   "cell_type": "code",
   "execution_count": 40,
   "id": "f9204177",
   "metadata": {},
   "outputs": [
    {
     "name": "stdout",
     "output_type": "stream",
     "text": [
      "Business/Economy German real estate market trend analysis and data on rising rents\n"
     ]
    }
   ],
   "source": [
    "#Change previous function call to use llama3.2:3b:\n",
    "label, why = classify_one(\n",
    "    df_llm.iloc[0][\"title\"],\n",
    "    df_llm.iloc[0][\"plain_text\"],\n",
    "    model=\"llama3.2:3b\"  \n",
    ")\n",
    "print(label, why)"
   ]
  },
  {
   "cell_type": "code",
   "execution_count": 47,
   "id": "152d6772",
   "metadata": {},
   "outputs": [],
   "source": [
    "# Sampling + Initialization\n",
    "sample = df_llm.sample(50, random_state=42).copy()\n",
    "labels, rationales = [], []\n",
    "\n",
    "# Run reasoning (faster)\n",
    "for _, row in sample.iterrows():\n",
    "    label, why = classify_one(row[\"title\"], row[\"plain_text\"], model=\"llama3.2:3b\")\n",
    "    labels.append(label)\n",
    "    rationales.append(why)\n",
    "\n",
    "# Write the results back to the sample set\n",
    "sample[\"llm_label\"] = labels\n",
    "sample[\"llm_rationale\"] = rationales\n",
    "\n",
    "# Export (50 articles only)\n",
    "sample.to_csv(\"llm_sampled_classified.csv\", index=False)"
   ]
  },
  {
   "cell_type": "code",
   "execution_count": null,
   "id": "2e9228c4",
   "metadata": {},
   "outputs": [
    {
     "name": "stdout",
     "output_type": "stream",
     "text": [
      "63\n"
     ]
    }
   ],
   "source": [
    "# Filter English + text length 80~1200 words to avoid misjudgment of very short/long text.\n",
    "mask = (df_llm['language'].fillna('en').str.lower().str.startswith('en')) & \\\n",
    "        (df_llm['plain_text'].astype(str).str.len().between(80, 1200))\n",
    "df_use = df_llm[mask].copy()\n",
    "\n",
    "# If too few, relax the range to 40 to 1600.\n",
    "if len(df_use) < 60:\n",
    "    mask = (df_llm['language'].fillna('en').str.lower().str.startswith('en')) & \\\n",
    "            (df_llm['plain_text'].astype(str).str.len().between(40, 1600))\n",
    "    df_use = df_llm[mask].copy()\n",
    "\n",
    "print(len(df_use))"
   ]
  },
  {
   "cell_type": "code",
   "execution_count": null,
   "id": "4447b6aa",
   "metadata": {},
   "outputs": [],
   "source": [
    "LABELS = [\n",
    "    \"Sports\", \"Politics\", \"Entertainment\", \"Food&Drink\",\n",
    "    \"Crime&Law\", \"Elections\", \"Business/Economy\", \"Technology\", \"Other\"\n",
    "]\n",
    "\n",
    "# Synonyms → Standard Label Mapping\n",
    "CANON_MAP = {\n",
    "    \"sport\": \"Sports\", \"sports\": \"Sports\",\n",
    "    \"politic\": \"Politics\", \"politics\": \"Politics\",\n",
    "    \"entertainment\": \"Entertainment\", \"culture\": \"Entertainment\",\n",
    "    \"food\": \"Food&Drink\", \"drink\": \"Food&Drink\", \"dining\": \"Food&Drink\", \"restaurant\": \"Food&Drink\",\n",
    "    \"crime\": \"Crime&Law\", \"law\": \"Crime&Law\", \"court\": \"Crime&Law\",\n",
    "    \"election\": \"Elections\", \"elections\": \"Elections\", \"vote\": \"Elections\",\n",
    "    \"business\": \"Business/Economy\", \"economy\": \"Business/Economy\", \"economic\": \"Business/Economy\", \"finance\": \"Business/Economy\", \"market\": \"Business/Economy\",\n",
    "    \"tech\": \"Technology\", \"technology\": \"Technology\", \"ai\": \"Technology\", \"software\": \"Technology\", \"hardware\": \"Technology\",\n",
    "}\n",
    "\n",
    "def canonicalize(label: str) -> str:\n",
    "    if not label:\n",
    "        return \"Other\"\n",
    "    low = label.strip().lower()\n",
    "    # perfect match\n",
    "    for k, v in CANON_MAP.items():\n",
    "        if low == k:\n",
    "            return v\n",
    "    # Include word matching (more robust)\n",
    "    for k, v in CANON_MAP.items():\n",
    "        if k in low:\n",
    "            return v\n",
    "    # Already a standard label\n",
    "    for L in LABELS:\n",
    "        if low == L.lower():\n",
    "            return L\n",
    "    return \"Other\""
   ]
  },
  {
   "cell_type": "code",
   "execution_count": 45,
   "id": "fb66ebc5",
   "metadata": {},
   "outputs": [],
   "source": [
    "import ollama, json, re\n",
    "\n",
    "SYSTEM = (\n",
    "    \"You are a precise news section classifier.\\n\"\n",
    "    \"You MUST answer ONLY with a valid JSON object in the format:\\n\"\n",
    "    \"{\\\"label\\\": <one of LABELS>, \\\"rationale\\\": <short reason>}.\\n\"\n",
    "    \"Do not add extra text, no markdown, no code fences.\"\n",
    ")\n",
    "\n",
    "FEWSHOT = [\n",
    "    {\n",
    "        \"role\": \"user\",\n",
    "        \"content\": (\n",
    "            \"Allowed labels: Sports, Politics, Entertainment, Food&Drink, \"\n",
    "            \"Crime&Law, Elections, Business/Economy, Technology, Other\\n\\n\"\n",
    "            \"Title: Team wins in NBA opening game\\n\"\n",
    "            \"Body: The Lakers defeated the Warriors in the season opener...\\n\"\n",
    "            \"Rules: Pick exactly ONE label.\"\n",
    "        )\n",
    "    },\n",
    "    {\"role\": \"assistant\", \"content\": \"{\\\"label\\\":\\\"Sports\\\",\\\"rationale\\\":\\\"Basketball game result\\\"}\"},\n",
    "    {\n",
    "        \"role\": \"user\",\n",
    "        \"content\": (\n",
    "            \"Allowed labels: Sports, Politics, Entertainment, Food&Drink, \"\n",
    "            \"Crime&Law, Elections, Business/Economy, Technology, Other\\n\\n\"\n",
    "            \"Title: Apple unveils new chip\\n\"\n",
    "            \"Body: Apple introduced a new processor aimed at improving AI...\\n\"\n",
    "            \"Rules: Pick exactly ONE label.\"\n",
    "        )\n",
    "    },\n",
    "    {\"role\": \"assistant\", \"content\": \"{\\\"label\\\":\\\"Technology\\\",\\\"rationale\\\":\\\"Tech product announcement\\\"}\"},\n",
    "]\n",
    "\n",
    "USER_TMPL = \"\"\"Allowed labels: {labels}\n",
    "\n",
    "Title: {title}\n",
    "Body: {body}\n",
    "\n",
    "Rules:\n",
    "- Pick exactly ONE label from the allowed set.\n",
    "- Keep rationale under 20 words.\n",
    "Return ONLY JSON, no extra text.\n",
    "\"\"\"\n",
    "\n",
    "JSON_RE = re.compile(r\"\\{.*\\}\", re.S)  # 尽量抓到第一个 JSON 对象\n",
    "\n",
    "def classify_one(title, body, model=\"llama3.2:3b\"):\n",
    "    prompt = USER_TMPL.format(labels=\", \".join(LABELS),\n",
    "                              title=(title or \"\")[:200],\n",
    "                              body=(body or \"\")[:1200])\n",
    "    messages = [{\"role\": \"system\", \"content\": SYSTEM}] + FEWSHOT + [{\"role\":\"user\",\"content\": prompt}]\n",
    "    try:\n",
    "        resp = ollama.chat(model=model, messages=messages, options={\"temperature\": 0})\n",
    "        text = resp[\"message\"][\"content\"].strip()\n",
    "\n",
    "        # 不是纯 JSON 时，尽量提取 JSON 段\n",
    "        m = JSON_RE.search(text)\n",
    "        if m:\n",
    "            text = m.group(0)\n",
    "\n",
    "        data = json.loads(text)\n",
    "        raw_label = data.get(\"label\", \"Other\")\n",
    "        label = canonicalize(raw_label)  # 映射到标准标签\n",
    "        why = data.get(\"rationale\", \"\")\n",
    "        if label not in LABELS:\n",
    "            label = \"Other\"\n",
    "        return label, why\n",
    "    except Exception as e:\n",
    "        return \"Other\", f\"error: {e}\""
   ]
  },
  {
   "cell_type": "code",
   "execution_count": 38,
   "id": "b7cbc914",
   "metadata": {},
   "outputs": [
    {
     "name": "stdout",
     "output_type": "stream",
     "text": [
      "llm_label\n",
      "Crime&Law           43.3\n",
      "Sports              20.0\n",
      "Business/Economy    10.0\n",
      "Entertainment       10.0\n",
      "Other                6.7\n",
      "Politics             6.7\n",
      "Food&Drink           3.3\n",
      "Name: proportion, dtype: float64\n"
     ]
    },
    {
     "data": {
      "text/html": [
       "<div>\n",
       "<style scoped>\n",
       "    .dataframe tbody tr th:only-of-type {\n",
       "        vertical-align: middle;\n",
       "    }\n",
       "\n",
       "    .dataframe tbody tr th {\n",
       "        vertical-align: top;\n",
       "    }\n",
       "\n",
       "    .dataframe thead th {\n",
       "        text-align: right;\n",
       "    }\n",
       "</style>\n",
       "<table border=\"1\" class=\"dataframe\">\n",
       "  <thead>\n",
       "    <tr style=\"text-align: right;\">\n",
       "      <th></th>\n",
       "      <th>title</th>\n",
       "      <th>llm_label</th>\n",
       "      <th>llm_rationale</th>\n",
       "    </tr>\n",
       "  </thead>\n",
       "  <tbody>\n",
       "    <tr>\n",
       "      <th>195</th>\n",
       "      <td>Musselburgh carer on trial for client fraud</td>\n",
       "      <td>Crime&amp;Law</td>\n",
       "      <td>Carer accused of client fraud</td>\n",
       "    </tr>\n",
       "    <tr>\n",
       "      <th>188</th>\n",
       "      <td>BRIEF-Crispr Therapeutics AG shares open at $1...</td>\n",
       "      <td>Business/Economy</td>\n",
       "      <td>Financial news and market data report</td>\n",
       "    </tr>\n",
       "    <tr>\n",
       "      <th>1</th>\n",
       "      <td>TRICO to host open house Oct. 20</td>\n",
       "      <td>Other</td>\n",
       "      <td>Local business event with community focus on d...</td>\n",
       "    </tr>\n",
       "  </tbody>\n",
       "</table>\n",
       "</div>"
      ],
      "text/plain": [
       "                                                 title         llm_label  \\\n",
       "195        Musselburgh carer on trial for client fraud         Crime&Law   \n",
       "188  BRIEF-Crispr Therapeutics AG shares open at $1...  Business/Economy   \n",
       "1                     TRICO to host open house Oct. 20             Other   \n",
       "\n",
       "                                         llm_rationale  \n",
       "195                      Carer accused of client fraud  \n",
       "188              Financial news and market data report  \n",
       "1    Local business event with community focus on d...  "
      ]
     },
     "execution_count": 38,
     "metadata": {},
     "output_type": "execute_result"
    }
   ],
   "source": [
    "sample = df_use.sample(30, random_state=42).copy()\n",
    "\n",
    "labels, whys = [], []\n",
    "for _, row in sample.iterrows():\n",
    "    label, why = classify_one(row.get(\"title\",\"\"), row.get(\"plain_text\",\"\"), model=\"llama3.2:3b\")\n",
    "    labels.append(label); whys.append(why)\n",
    "\n",
    "sample[\"llm_label\"] = labels\n",
    "sample[\"llm_rationale\"] = whys\n",
    "\n",
    "print(sample[\"llm_label\"].value_counts(normalize=True).mul(100).round(1))\n",
    "sample.head(3)[[\"title\",\"llm_label\",\"llm_rationale\"]]"
   ]
  },
  {
   "cell_type": "code",
   "execution_count": 46,
   "id": "2df0cfda",
   "metadata": {},
   "outputs": [
    {
     "data": {
      "image/png": "[encoded data removed]",
      "text/plain": [
       "<Figure size 640x480 with 1 Axes>"
      ]
     },
     "metadata": {},
     "output_type": "display_data"
    }
   ],
   "source": [
    "import matplotlib.pyplot as plt\n",
    "sample[\"llm_label\"].value_counts().plot(kind=\"bar\")\n",
    "plt.title(\"LLM News Classification (sample)\")\n",
    "plt.show()"
   ]
  },
  {
   "cell_type": "markdown",
   "id": "f0767b6e",
   "metadata": {},
   "source": [
    "Both BERTopic and LLM-based classification identified overlapping semantic structures in the news dataset.\n",
    "BERTopic uncovered topic clusters around sports events, law enforcement, music & entertainment, and political campaigns.\n",
    "Correspondingly, the LLM classifier labeled most texts as Crime&Law and Sports, followed by Business/Economy and Politics.\n",
    "This convergence indicates that unsupervised topic modeling and LLM-driven classification capture consistent thematic trends — validating the coherence of underlying news categories."
   ]
  }
 ],
 "metadata": {
  "kernelspec": {
   "display_name": "base",
   "language": "python",
   "name": "python3"
  },
  "language_info": {
   "codemirror_mode": {
    "name": "ipython",
    "version": 3
   },
   "file_extension": ".py",
   "mimetype": "text/x-python",
   "name": "python",
   "nbconvert_exporter": "python",
   "pygments_lexer": "ipython3",
   "version": "3.13.5"
  }
 },
 "nbformat": 4,
 "nbformat_minor": 5
}
